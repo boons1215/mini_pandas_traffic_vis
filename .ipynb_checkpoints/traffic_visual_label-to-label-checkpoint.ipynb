{
 "cells": [
  {
   "cell_type": "markdown",
   "id": "04a1ba7a",
   "metadata": {},
   "source": [
    "__Created and Maintained by Boon < <boon.siew@illumio.com> >__\n",
    "\n",
    "__NOTE:__\n",
    "This script generates the following outputs:<br>\n",
    "    1. CSV with consolidated flows output - \"consolidated_output.csv\"<br>\n",
    "    2. CSV with consolidated flows output without ports and protocols - \"consolidated_output-noports.csv\"<br>\n",
    "    3. CSV with Consumer VENs without APP label assigned - \"consumer_hostname_without_applabel_output.csv\"<br>\n",
    "    4. CSV with Provider VENs without APP label assigned - \"provider_hostname_without_applabel_output.csv\"<br>\n",
    "    5. HTML with graph - \"sunburst_chart_with_legend.html\"\n",
    "    \n",
    "- pip3 install -U kaleido\n",
    "- pip3 install -U pandas\n",
    "- pip3 install -U plotly"
   ]
  },
  {
   "cell_type": "markdown",
   "id": "8ca830eb",
   "metadata": {},
   "source": [
    "**Update the following Variables:**"
   ]
  },
  {
   "cell_type": "code",
   "execution_count": null,
   "id": "b0615270",
   "metadata": {},
   "outputs": [],
   "source": [
    "#csv_file_path=\"TrafficData 18_09_2023, 17_45_12.csv\"\n",
    "#csv_file_path=\"prod_to_nonprod.csv\"\n",
    "csv_file_path=\"1e23bcd3-1b45-4822-bdba-2c9cd1ddc116.csv\""
   ]
  },
  {
   "cell_type": "markdown",
   "id": "dd755241",
   "metadata": {},
   "source": [
    "Should we enable the location view? (default is False)"
   ]
  },
  {
   "cell_type": "code",
   "execution_count": null,
   "id": "b1b9a241",
   "metadata": {},
   "outputs": [],
   "source": [
    "location=False"
   ]
  },
  {
   "cell_type": "markdown",
   "id": "7b894738",
   "metadata": {},
   "source": [
    "Sunburst chart depth level (default 2, upto 6)"
   ]
  },
  {
   "cell_type": "code",
   "execution_count": null,
   "id": "be13f70f",
   "metadata": {},
   "outputs": [],
   "source": [
    "maxdepth=4"
   ]
  },
  {
   "cell_type": "markdown",
   "id": "43e624a9",
   "metadata": {},
   "source": [
    " "
   ]
  },
  {
   "cell_type": "markdown",
   "id": "c9a5ed36",
   "metadata": {},
   "source": [
    "<span style='background:Red;font-weight:bold;'> ### DO NOT EDIT FROM HERE ###</span>"
   ]
  },
  {
   "cell_type": "code",
   "execution_count": null,
   "id": "6f005c37",
   "metadata": {},
   "outputs": [],
   "source": [
    "import sys\n",
    "import os\n",
    "import pandas as pd\n",
    "import plotly.express as px\n",
    "import plotly.graph_objs as go\n",
    "import plotly.figure_factory as ff\n",
    "from plotly.subplots import make_subplots"
   ]
  },
  {
   "cell_type": "code",
   "execution_count": null,
   "id": "c57bfd4a",
   "metadata": {},
   "outputs": [],
   "source": [
    "def read_csv_file(file_path):\n",
    "    try:\n",
    "        return pd.read_csv(file_path)\n",
    "    except FileNotFoundError:\n",
    "        print(f\"File not found: {file_path}\")\n",
    "        sys.exit(1)"
   ]
  },
  {
   "cell_type": "code",
   "execution_count": null,
   "id": "cc1250cc",
   "metadata": {},
   "outputs": [],
   "source": [
    "def preprocess_data(df):\n",
    "    columns_to_replace = ['Consumer app', 'Consumer env', 'Consumer loc', 'Provider app', 'Provider env', 'Provider loc']\n",
    "    df.loc[:, columns_to_replace] = df[columns_to_replace].fillna('NO LABEL')\n",
    "\n",
    "    df.loc[df['Consumer Hostname'].isna() & df['Consumer IPList'].isna(), 'Consumer IPList'] = 'NOT IN IPLIST'\n",
    "    df.loc[df['Provider Hostname'].isna() & df['Provider IPList'].isna(), 'Provider IPList'] = 'NOT IN IPLIST'\n",
    "\n",
    "    df['First Detected'] = pd.to_datetime(df['First Detected'])\n",
    "    df['Last Detected'] = pd.to_datetime(df['Last Detected'])\n",
    "    \n",
    "    # Calculate the earliest and latest timestamps\n",
    "    earliest_timestamp = df['First Detected'].min()\n",
    "    latest_timestamp = df['Last Detected'].max()\n",
    "    \n",
    "    time_difference = latest_timestamp - earliest_timestamp\n",
    "\n",
    "    return df, time_difference"
   ]
  },
  {
   "cell_type": "code",
   "execution_count": null,
   "id": "0f1f3c82",
   "metadata": {},
   "outputs": [],
   "source": [
    "def sunburst_chart_output(df, path, maxdepth, chart_name, hover_name, hover_data, labels):\n",
    "    fig = make_subplots(rows=1, cols=1)\n",
    "    sunburst_chart = px.sunburst(\n",
    "        df,\n",
    "        path=path,\n",
    "        values='Count',\n",
    "        color='Count',  \n",
    "        color_continuous_scale='Viridis', \n",
    "        hover_name=hover_name,  # Display Consumer app as hover text\n",
    "        hover_data=hover_data,  \n",
    "        labels=labels,  \n",
    "        maxdepth=maxdepth,  \n",
    "    )\n",
    "\n",
    "    fig.add_trace(sunburst_chart.data[0])\n",
    "    fig.update_layout(\n",
    "        legend_title_text=\"Legend\",\n",
    "        legend_traceorder=\"normal\",  # Change trace order in the legend\n",
    "    )\n",
    "    fig.update_traces(textinfo='label+percent entry', insidetextorientation='radial') \n",
    "    fig.update_layout(margin=dict(t=0, l=0, r=0, b=0))  \n",
    "\n",
    "    with open(chart_name, 'w') as f:\n",
    "        f.write(fig.to_html())\n",
    "\n",
    "    fig.show()"
   ]
  },
  {
   "cell_type": "code",
   "execution_count": null,
   "id": "3575c8ad",
   "metadata": {},
   "outputs": [],
   "source": [
    "def generate_sunburst_from_dataframe(df, columns, merge_columns, chart_name, path, hover_data, labels):\n",
    "    grouped = df.groupby(columns).size().reset_index(name='Count')\n",
    "    merge_grouped = df.groupby(merge_columns).size().reset_index(name='Count')\n",
    "\n",
    "    if not grouped.empty:\n",
    "        grouped.to_csv(f'{chart_name}_consolidated_output.csv', index=False)\n",
    "        merge_grouped.to_csv(f'{chart_name}_consolidated_output-noports_info.csv', index=False)\n",
    "    else:\n",
    "        print(\"No data to generate Sunburst chart.\")\n",
    "        return\n",
    "    \n",
    "    path = path\n",
    "    hover_name = path[-1]\n",
    "    hover_data = hover_data\n",
    "    labels = labels\n",
    "\n",
    "    sunburst_chart_output(merge_grouped, path, maxdepth, f'{chart_name}_sunburst_chart.html', hover_name, hover_data, labels)"
   ]
  },
  {
   "cell_type": "code",
   "execution_count": null,
   "id": "b3275571",
   "metadata": {},
   "outputs": [],
   "source": [
    "def generate_vens_to_vens_sunburst_chart(df, maxdepth=2, location=False):\n",
    "    df_filtered = df[(~df['Consumer Hostname'].isna()) & (~df['Provider Hostname'].isna())]\n",
    "    columns = ['Consumer Hostname', 'Consumer app', 'Consumer env', 'Consumer loc', 'Provider Hostname', 'Provider app', 'Provider env', 'Provider loc', 'Port', 'Protocol']\n",
    "    merge_columns = ['Consumer app', 'Consumer env', 'Consumer loc', 'Provider app', 'Provider env', 'Provider loc']\n",
    "\n",
    "    if location:\n",
    "        path = ['Provider loc', 'Provider env', 'Provider app', 'Consumer loc', 'Consumer env', 'Consumer app']\n",
    "    else:\n",
    "        path = ['Provider env', 'Provider app', 'Consumer env', 'Consumer app']\n",
    "\n",
    "    hover_data = ['Count', 'Consumer app', 'Consumer env', 'Provider app', 'Provider env']\n",
    "    labels = {'Consumer app': 'Consumer App', 'Provider app': 'Provider App'}\n",
    "\n",
    "    generate_sunburst_from_dataframe(df, columns, merge_columns, 'vens-to-vens', path, hover_data, labels)"
   ]
  },
  {
   "cell_type": "code",
   "execution_count": null,
   "id": "64b174c0",
   "metadata": {},
   "outputs": [],
   "source": [
    "def generate_iplists_to_vens_sunburst_chart(df, maxdepth=2, location=False):\n",
    "    df_filtered = df[~df['Consumer IPList'].isna() & ~df['Provider Hostname'].isna()]\n",
    "    columns = ['Consumer IP', 'Consumer IPList', 'Provider app', 'Provider env', 'Provider loc', 'Port', 'Protocol']\n",
    "    merge_columns = ['Consumer IP', 'Consumer IPList', 'Provider app', 'Provider env', 'Provider loc']\n",
    "\n",
    "    if location:\n",
    "        path = ['Provider loc', 'Provider env', 'Provider app', 'Consumer IPList']\n",
    "    else:\n",
    "        path = ['Provider env', 'Provider app', 'Consumer IPList']\n",
    "\n",
    "    hover_data = ['Count', 'Consumer IPList', 'Provider app', 'Provider env']\n",
    "    labels = {'Consumer iplist': 'Consumer IPList', 'Provider app': 'Provider App'}\n",
    "\n",
    "    generate_sunburst_from_dataframe(df, columns, merge_columns, 'iplists-to-vens', path, hover_data, labels)"
   ]
  },
  {
   "cell_type": "code",
   "execution_count": null,
   "id": "c29ac919",
   "metadata": {},
   "outputs": [],
   "source": [
    "def visualize_ports_usage(df, group, chart_name):\n",
    "    grouped = df.groupby(group).size().reset_index(name='Count')\n",
    "    stacked_chart_output(grouped, chart_name)\n",
    "    table_view(df, group[0], group[-1])"
   ]
  },
  {
   "cell_type": "code",
   "execution_count": null,
   "id": "bee3a935",
   "metadata": {},
   "outputs": [],
   "source": [
    "def table_view(df, provider, consumer):    \n",
    "    # Create a table showing Provider app and its count\n",
    "    provider_app_counts = df[provider].value_counts().reset_index()\n",
    "    provider_app_counts.columns = [provider, 'Count']\n",
    "    \n",
    "    table_fig = ff.create_table(provider_app_counts)\n",
    "    table_fig.update_layout(\n",
    "        title=f\"{provider} Unique Hits Counts\",\n",
    "        margin=dict(t=50, l=10, r=10, b=10)\n",
    "    )\n",
    "    \n",
    "    consumer_counts = df[consumer].value_counts().reset_index()\n",
    "    consumer_counts.columns = [consumer, 'Count']\n",
    "    \n",
    "    table_fig2 = ff.create_table(consumer_counts)\n",
    "    table_fig2.update_layout(\n",
    "        title=f\"{consumer} Unique Hits Counts\",\n",
    "        margin=dict(t=50, l=10, r=10, b=10)\n",
    "    )\n",
    "    \n",
    "    table_fig.show()\n",
    "    table_fig2.show()"
   ]
  },
  {
   "cell_type": "code",
   "execution_count": null,
   "id": "ca5fdb88",
   "metadata": {},
   "outputs": [],
   "source": [
    "def stacked_chart_output(grouped, chart_name):\n",
    "    # Create a new column to group ports within specified ranges\n",
    "    def group_ports(port):\n",
    "        if 0 <= port <= 1023:\n",
    "            return '0-1023'\n",
    "        elif 1024 <= port <= 49151:\n",
    "            return '1024-49151'\n",
    "        elif 49152 <= port <= 65535:\n",
    "            return '49152-65535'\n",
    "        else:\n",
    "            return 'Other'\n",
    "\n",
    "    grouped['Port Range'] = grouped['Port'].apply(group_ports)\n",
    "\n",
    "    # Create three separate DataFrames for each port range\n",
    "    low_ports = grouped[grouped['Port Range'] == '0-1023']\n",
    "    medium_ports = grouped[grouped['Port Range'] == '1024-49151']\n",
    "    high_ports = grouped[grouped['Port Range'] == '49152-65535']\n",
    "\n",
    "    # Create three stacked bar charts using Plotly Express\n",
    "    fig_low_ports = px.bar(low_ports, x='Provider app', y='Count', color='Port', text='Count',\n",
    "                           labels={'Provider app': 'Provider Application', 'Count': 'Count'},\n",
    "                           title=f'{chart_name} Count of Unique Hits (0-1023) per Provider Application (Stacked)')\n",
    "\n",
    "    fig_medium_ports = px.bar(medium_ports, x='Provider app', y='Count', color='Port', text='Count',\n",
    "                              labels={'Provider app': 'Provider Application', 'Count': 'Count'},\n",
    "                              title=f'{chart_name} Count of Unique Hits (1024-49151) per Provider Application (Stacked)')\n",
    "\n",
    "    fig_high_ports = px.bar(high_ports, x='Provider app', y='Count', color='Port', text='Count',\n",
    "                            labels={'Provider app': 'Provider Application', 'Count': 'Count'},\n",
    "                            title=f'{chart_name} Count of Unique Hits (49152-65535) per Provider Application (Stacked)')\n",
    "\n",
    "    # Customize the appearance of all three charts\n",
    "    for fig in [fig_low_ports, fig_medium_ports, fig_high_ports]:\n",
    "        fig.update_traces(textposition='inside')\n",
    "\n",
    "    # Save the three charts as image files (PNG format)\n",
    "    fig_low_ports.write_image(f\"{chart_name}-fig_low_ports.png\")\n",
    "    fig_medium_ports.write_image(f\"{chart_name}-fig_medium_ports.png\")\n",
    "    fig_high_ports.write_image(f\"{chart_name}-fig_high_ports.png\")\n",
    "\n",
    "    # Show the charts\n",
    "    fig_low_ports.show()\n",
    "    fig_medium_ports.show()\n",
    "    fig_high_ports.show()"
   ]
  },
  {
   "cell_type": "code",
   "execution_count": null,
   "id": "c2fc08ac",
   "metadata": {},
   "outputs": [],
   "source": [
    "def generate_consumer_and_provider_hostname_without_applabel(df):\n",
    "    # Replace empty values with \"NO LABEL\" in 'Consumer app' and 'Provider app' columns\n",
    "    columns_to_replace = ['Consumer app', 'Consumer env', 'Consumer loc', 'Provider app', 'Provider env', 'Provider loc']\n",
    "    df[columns_to_replace] = df[columns_to_replace].fillna('NO LABEL')\n",
    "    \n",
    "    # Filter and group the DataFrame based on 'Consumer app' and 'Provider app'\n",
    "    consumer_hostname_grouped = df[df['Consumer app'] == 'NO LABEL'].groupby(['Consumer Hostname', 'Consumer IP', 'Consumer app', 'Consumer env', 'Consumer loc']).size().reset_index(name='Count')\n",
    "    provider_hostname_grouped = df[df['Provider app'] == 'NO LABEL'].groupby(['Provider Hostname', 'Provider IP', 'Provider app', 'Provider env', 'Provider loc']).size().reset_index(name='Count')\n",
    "\n",
    "    # Save the grouped DataFrames to CSV files\n",
    "    consumer_hostname_grouped.to_csv('consumer_hostname_without_applabel_output.csv', index=False)\n",
    "    provider_hostname_grouped.to_csv('provider_hostname_without_applabel_output.csv', index=False)\n",
    "    \n",
    "    return consumer_hostname_grouped, provider_hostname_grouped"
   ]
  },
  {
   "cell_type": "code",
   "execution_count": null,
   "id": "a7adfa92",
   "metadata": {},
   "outputs": [],
   "source": [
    "def show_time_difference(time_difference):\n",
    "    days = time_difference.days\n",
    "    total_seconds = time_difference.total_seconds()\n",
    "    hours, remainder = divmod(total_seconds, 3600)\n",
    "    minutes, _ = divmod(remainder, 60)\n",
    "    \n",
    "    return {\n",
    "        'Days': days,\n",
    "        'Hours': int(hours),\n",
    "        'Minutes': int(minutes)\n",
    "    }"
   ]
  },
  {
   "cell_type": "markdown",
   "id": "fdafa748",
   "metadata": {},
   "source": [
    "<span style='background:Red;font-weight:bold;'> ### DO NOT EDIT TILL HERE ###</span>"
   ]
  },
  {
   "cell_type": "code",
   "execution_count": null,
   "id": "40d1869d",
   "metadata": {},
   "outputs": [],
   "source": [
    "df = read_csv_file(csv_file_path)\n",
    "df, time_difference = preprocess_data(df)"
   ]
  },
  {
   "cell_type": "code",
   "execution_count": null,
   "id": "8662d80d",
   "metadata": {},
   "outputs": [],
   "source": [
    "consumer_hostname_without_applabel, provider_hostname_without_applabel = generate_consumer_and_provider_hostname_without_applabel(df)"
   ]
  },
  {
   "cell_type": "code",
   "execution_count": null,
   "id": "f867a9b8",
   "metadata": {},
   "outputs": [],
   "source": [
    "if maxdepth < 2:\n",
    "    maxdepth = 2\n",
    "    \n",
    "if maxdepth > 4:\n",
    "    maxdepth = 4"
   ]
  },
  {
   "cell_type": "markdown",
   "id": "12202773",
   "metadata": {},
   "source": [
    " "
   ]
  },
  {
   "cell_type": "markdown",
   "id": "4f6076a0",
   "metadata": {},
   "source": [
    " "
   ]
  },
  {
   "cell_type": "markdown",
   "id": "1acfbeff",
   "metadata": {},
   "source": [
    " "
   ]
  },
  {
   "cell_type": "markdown",
   "id": "23a00c14",
   "metadata": {},
   "source": [
    " <span style='color:Blue;font-weight:bold;'> Outputs:</span> "
   ]
  },
  {
   "cell_type": "code",
   "execution_count": null,
   "id": "2857c334",
   "metadata": {
    "scrolled": true
   },
   "outputs": [],
   "source": [
    "time = show_time_difference(time_difference)\n",
    "print(f\"Dataset timeframe: {time['Days']} Days, {time['Hours']} Hours, {time['Minutes']} Minutes.\")"
   ]
  },
  {
   "cell_type": "markdown",
   "id": "d60f60ab",
   "metadata": {},
   "source": [
    " "
   ]
  },
  {
   "cell_type": "markdown",
   "id": "496161d0",
   "metadata": {},
   "source": [
    "<span style='color:Blue;font-weight:bold;'> INFO:</span> Consumer VENs without APP label assigned"
   ]
  },
  {
   "cell_type": "code",
   "execution_count": null,
   "id": "70827301",
   "metadata": {},
   "outputs": [],
   "source": [
    "print(consumer_hostname_without_applabel)"
   ]
  },
  {
   "cell_type": "markdown",
   "id": "22308d5b",
   "metadata": {},
   "source": [
    " "
   ]
  },
  {
   "cell_type": "markdown",
   "id": "669e1e71",
   "metadata": {},
   "source": [
    "<span style='color:Blue;font-weight:bold;'> INFO:</span> Provider VENs without APP label assigned"
   ]
  },
  {
   "cell_type": "code",
   "execution_count": null,
   "id": "28fec25e",
   "metadata": {
    "scrolled": false
   },
   "outputs": [],
   "source": [
    "print(provider_hostname_without_applabel)"
   ]
  },
  {
   "cell_type": "markdown",
   "id": "d65a88e5",
   "metadata": {},
   "source": [
    " "
   ]
  },
  {
   "cell_type": "markdown",
   "id": "f69ce87c",
   "metadata": {},
   "source": [
    "<span style='color:Blue;font-weight:bold;'> INFO:</span> Sunburst Chart for VENs to VENs visualization <br>\n",
    "\n",
    "This Sunburst chart displays a hierarchical representation of data.<br>\n",
    "\n",
    "Layer 1: Provider environment<br>\n",
    "Layer 2: Provider application within Provider environment<br>\n",
    "Layer 3: Consumer environment outbound to the Provider Application<br>\n",
    "Layer 4: Consumer application within Consumer environment<br>"
   ]
  },
  {
   "cell_type": "code",
   "execution_count": null,
   "id": "93e06ff7",
   "metadata": {
    "scrolled": false
   },
   "outputs": [],
   "source": [
    "generate_vens_to_vens_sunburst_chart(df, maxdepth=maxdepth, location=location)"
   ]
  },
  {
   "cell_type": "markdown",
   "id": "05a232da",
   "metadata": {},
   "source": [
    " "
   ]
  },
  {
   "cell_type": "markdown",
   "id": "7cb5d5ad",
   "metadata": {},
   "source": [
    "<span style='color:Blue;font-weight:bold;'> INFO:</span> VENs to VENs Ports Usage by Provider App Centric"
   ]
  },
  {
   "cell_type": "code",
   "execution_count": null,
   "id": "434f2eca",
   "metadata": {
    "scrolled": false
   },
   "outputs": [],
   "source": [
    "csv_file_path = \"./vens-to-vens_consolidated_output.csv\"\n",
    "if os.path.exists(csv_file_path):\n",
    "    rdf = read_csv_file(csv_file_path)\n",
    "    columns = ['Provider app', 'Port', 'Protocol', 'Consumer app']\n",
    "    visualize_ports_usage(rdf, columns, \"VENs-to-VENs\")\n",
    "else:\n",
    "    print(f\"File not found: {csv_file_path}, skipping visualization.\")"
   ]
  },
  {
   "cell_type": "markdown",
   "id": "5265590f",
   "metadata": {},
   "source": [
    "<span style='color:Blue;font-weight:bold;'> INFO:</span> Sunburst Chart for IPLists to VENs visualization <br>\n",
    "\n",
    "This Sunburst chart displays a hierarchical representation of data.<br>\n",
    "\n",
    "Layer 1: Provider environment<br>\n",
    "Layer 2: Provider application within Provider environment<br>\n",
    "Layer 3: Consumer IPLists outbound to the Provider Application<br>\n",
    "Layer 4: Consumer IPs within Consumer IPLists<br>"
   ]
  },
  {
   "cell_type": "code",
   "execution_count": null,
   "id": "db547c92",
   "metadata": {},
   "outputs": [],
   "source": [
    "generate_iplists_to_vens_sunburst_chart(df, maxdepth=maxdepth, location=location)"
   ]
  },
  {
   "cell_type": "markdown",
   "id": "2afaa3d3",
   "metadata": {},
   "source": [
    " "
   ]
  },
  {
   "cell_type": "markdown",
   "id": "5974305c",
   "metadata": {},
   "source": [
    " "
   ]
  },
  {
   "cell_type": "markdown",
   "id": "7eb98cf7",
   "metadata": {},
   "source": [
    "<span style='color:Blue;font-weight:bold;'> INFO:</span> IPLists to VENs Ports Usage by Provider App Centric"
   ]
  },
  {
   "cell_type": "code",
   "execution_count": null,
   "id": "56917d89",
   "metadata": {
    "scrolled": false
   },
   "outputs": [],
   "source": [
    "csv_file_path = \"./iplists-to-vens_consolidated_output.csv\"\n",
    "if os.path.exists(csv_file_path):\n",
    "    idf = read_csv_file(\"./iplists-to-vens_consolidated_output.csv\")\n",
    "    columns = ['Provider app', 'Port', 'Protocol', 'Consumer IPList']\n",
    "    visualize_ports_usage(idf, columns, \"IPLists-to-VENs\")\n",
    "else:\n",
    "    print(f\"File not found: {csv_file_path}, skipping visualization.\")"
   ]
  }
 ],
 "metadata": {
  "kernelspec": {
   "display_name": "Python 3 (ipykernel)",
   "language": "python",
   "name": "python3"
  },
  "language_info": {
   "codemirror_mode": {
    "name": "ipython",
    "version": 3
   },
   "file_extension": ".py",
   "mimetype": "text/x-python",
   "name": "python",
   "nbconvert_exporter": "python",
   "pygments_lexer": "ipython3",
   "version": "3.11.4"
  }
 },
 "nbformat": 4,
 "nbformat_minor": 5
}
