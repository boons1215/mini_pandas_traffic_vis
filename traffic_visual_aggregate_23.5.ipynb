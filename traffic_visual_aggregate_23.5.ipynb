{
 "cells": [
  {
   "cell_type": "markdown",
   "id": "04a1ba7a",
   "metadata": {},
   "source": [
    "__Created and Maintained by Boon < <boon.siew@illumio.com> >__\n",
    "\n",
    "__NOTE:__\n",
    "This script generates the following outputs:<br>\n",
    "    1. CSV with consolidated flows output - \"consolidated_output.csv\"<br>\n",
    "    2. CSV with consolidated flows output without ports and protocols - \"consolidated_output-noports.csv\"<br>\n",
    "    3. CSV with Source VENs without APP label assigned - \"Source_hostname_without_applabel_output.csv\"<br>\n",
    "    4. CSV with Destination VENs without APP label assigned - \"Destination_hostname_without_applabel_output.csv\"<br>\n",
    "    5. HTML with graph - \"sunburst_chart_with_legend.html\"\n",
    "    \n",
    "- pip3 install -U kaleido\n",
    "- pip3 install -U pandas\n",
    "- pip3 install -U plotly"
   ]
  },
  {
   "cell_type": "markdown",
   "id": "8ca830eb",
   "metadata": {},
   "source": [
    "**Update the following Variables:**"
   ]
  },
  {
   "cell_type": "code",
   "execution_count": null,
   "id": "b0615270",
   "metadata": {},
   "outputs": [],
   "source": [
    "csv_file_path=\"Remote/172.21.1/outbound.csv\""
   ]
  },
  {
   "cell_type": "markdown",
   "id": "dd755241",
   "metadata": {},
   "source": [
    "Should we enable the location view? (default is False)"
   ]
  },
  {
   "cell_type": "code",
   "execution_count": null,
   "id": "b1b9a241",
   "metadata": {},
   "outputs": [],
   "source": [
    "location=True"
   ]
  },
  {
   "cell_type": "markdown",
   "id": "7b894738",
   "metadata": {},
   "source": [
    "Sunburst chart depth level (default 2, upto 6)"
   ]
  },
  {
   "cell_type": "code",
   "execution_count": null,
   "id": "be13f70f",
   "metadata": {},
   "outputs": [],
   "source": [
    "maxdepth=6"
   ]
  },
  {
   "cell_type": "markdown",
   "id": "43e624a9",
   "metadata": {},
   "source": [
    " "
   ]
  },
  {
   "cell_type": "markdown",
   "id": "c9a5ed36",
   "metadata": {},
   "source": [
    "<span style='background:Red;font-weight:bold;'> ### DO NOT EDIT FROM HERE ###</span>"
   ]
  },
  {
   "cell_type": "code",
   "execution_count": null,
   "id": "6f005c37",
   "metadata": {},
   "outputs": [],
   "source": [
    "import sys\n",
    "import os\n",
    "import pandas as pd\n",
    "import plotly.express as px\n",
    "import plotly.graph_objs as go\n",
    "import plotly.figure_factory as ff\n",
    "from plotly.subplots import make_subplots"
   ]
  },
  {
   "cell_type": "code",
   "execution_count": null,
   "id": "c57bfd4a",
   "metadata": {},
   "outputs": [],
   "source": [
    "def read_csv_file(file_path):\n",
    "    try:\n",
    "        return pd.read_csv(file_path)\n",
    "    except FileNotFoundError:\n",
    "        print(f\"File not found: {file_path}\")\n",
    "        sys.exit(1)"
   ]
  },
  {
   "cell_type": "code",
   "execution_count": null,
   "id": "cc1250cc",
   "metadata": {},
   "outputs": [],
   "source": [
    "def preprocess_data(df):\n",
    "    # Condition 1: If \"Source Hostname\" and \"Destination Hostname\" are not empty, fill in with \"NO LABEL\" for certain columns if any one of them is empty.\n",
    "    hostname_columns = ['Source Application', 'Source Environment', 'Source Location', 'Destination Application', 'Destination Environment', 'Destination Location']\n",
    "    df.loc[~df['Source Hostname'].isna() & df['Source Hostname'].notna() &\n",
    "           ~df['Destination Hostname'].isna() & df['Destination Hostname'].notna(),\n",
    "           hostname_columns] = df[hostname_columns].fillna('NO LABEL')\n",
    "\n",
    "    # Condition 2: If \"Source IPList\" is not empty, fill in with \"NO LABEL\" for certain columns if any one of them is empty.\n",
    "    Source_iplist_columns = ['Destination Application', 'Destination Environment', 'Destination Location']\n",
    "    df.loc[~df['Source IPList'].isna(), Source_iplist_columns] = df[Source_iplist_columns].fillna('NO LABEL')\n",
    "\n",
    "    # Condition 3: If \"Destination IPList\" is not empty, fill in with \"NO LABEL\" for certain columns if any one of them is empty.\n",
    "    Destination_iplist_columns = ['Source Application', 'Source Environment', 'Source Location']\n",
    "    df.loc[~df['Destination IPList'].isna(), Destination_iplist_columns] = df[Destination_iplist_columns].fillna('NO LABEL')\n",
    "\n",
    "    df['First Detected'] = pd.to_datetime(df['First Detected'])\n",
    "    df['Last Detected'] = pd.to_datetime(df['Last Detected'])\n",
    "    \n",
    "    # Calculate the earliest and latest timestamps\n",
    "    earliest_timestamp = df['First Detected'].min()\n",
    "    latest_timestamp = df['Last Detected'].max()\n",
    "    \n",
    "    time_difference = latest_timestamp - earliest_timestamp\n",
    "\n",
    "    return df, time_difference"
   ]
  },
  {
   "cell_type": "code",
   "execution_count": null,
   "id": "0f1f3c82",
   "metadata": {},
   "outputs": [],
   "source": [
    "def sunburst_chart_output(df, path, maxdepth, chart_name, hover_name, hover_data, labels):\n",
    "    fig = make_subplots(rows=1, cols=1)\n",
    "    sunburst_chart = px.sunburst(\n",
    "        df,\n",
    "        path=path,\n",
    "        values='Count',\n",
    "        color='Count',  \n",
    "        color_continuous_scale='Viridis', \n",
    "        hover_name=hover_name,  # Display Source app as hover text\n",
    "        hover_data=hover_data,  \n",
    "        labels=labels,  \n",
    "        maxdepth=maxdepth,  \n",
    "    )\n",
    "\n",
    "    fig.add_trace(sunburst_chart.data[0])\n",
    "    fig.update_layout(\n",
    "        legend_title_text=\"Legend\",\n",
    "        legend_traceorder=\"normal\",  # Change trace order in the legend\n",
    "    )\n",
    "    fig.update_traces(textinfo='label+percent entry', insidetextorientation='radial') \n",
    "    fig.update_layout(margin=dict(t=0, l=0, r=0, b=0))  \n",
    "\n",
    "    chart_path = os.path.join(directory, chart_name)\n",
    "    \n",
    "    with open(chart_path, 'w') as f:\n",
    "        f.write(fig.to_html())\n",
    "\n",
    "    fig.show()"
   ]
  },
  {
   "cell_type": "code",
   "execution_count": null,
   "id": "3575c8ad",
   "metadata": {},
   "outputs": [],
   "source": [
    "def generate_sunburst_from_dataframe(df, columns, chart_name, path, hover_data, labels):\n",
    "    global directory\n",
    "\n",
    "    grouped = df.groupby(columns).size().reset_index(name='Count')\n",
    "\n",
    "    if not grouped.empty:\n",
    "        path1 = os.path.join(directory, f'{chart_name}_consolidated_output.csv')\n",
    "        grouped.to_csv(path1, index=False)\n",
    "    else:\n",
    "        print(\"No data to generate Sunburst chart.\")\n",
    "        return\n",
    "    \n",
    "    path = path\n",
    "    hover_name = path[-1]\n",
    "    hover_data = hover_data\n",
    "    labels = labels\n",
    "\n",
    "    sunburst_chart_output(grouped, path, maxdepth, f'{chart_name}_sunburst_chart.html', hover_name, hover_data, labels)"
   ]
  },
  {
   "cell_type": "code",
   "execution_count": null,
   "id": "b3275571",
   "metadata": {},
   "outputs": [],
   "source": [
    "def generate_vens_to_vens_sunburst_chart(df, maxdepth=2, location=False):\n",
    "    df_filtered = df[\n",
    "        ((~df['Source Name'].isna()) | (~df['Source Hostname'].isna())) &\n",
    "        ((~df['Destination Name'].isna()) | (~df['Destination Hostname'].isna()))\n",
    "    ]\n",
    "    \n",
    "    columns = ['Source Application', 'Source Environment', 'Source Location', 'Destination Application', 'Destination Environment', 'Destination Location', 'Port', 'Protocol']\n",
    "    \n",
    "    if location:\n",
    "        path = ['Destination Location', 'Destination Environment', 'Destination Application', 'Source Location', 'Source Environment', 'Source Application']\n",
    "    else:\n",
    "        path = ['Destination Environment', 'Destination Application', 'Source Environment', 'Source Application']\n",
    "\n",
    "    hover_data = ['Count', 'Source Application', 'Source Environment', 'Destination Application', 'Destination Environment']\n",
    "    labels = {'Source Application': 'Source App', 'Destination Application': 'Destination App'}\n",
    "\n",
    "    generate_sunburst_from_dataframe(df_filtered, columns, 'vens-to-vens', path, hover_data, labels)"
   ]
  },
  {
   "cell_type": "code",
   "execution_count": null,
   "id": "64b174c0",
   "metadata": {},
   "outputs": [],
   "source": [
    "def generate_iplists_to_vens_sunburst_chart(df, maxdepth=2, location=False):\n",
    "    df_filtered = df[~df['Source IPList'].isna() & ~df['Destination Hostname'].isna()]\n",
    "    columns = ['Source IPList', 'Destination Application', 'Destination Environment', 'Destination Location', 'Port', 'Protocol']\n",
    "\n",
    "    if location:\n",
    "        path = ['Destination Location', 'Destination Environment', 'Destination Application', 'Source IPList']\n",
    "    else:\n",
    "        path = ['Destination Environment', 'Destination Application', 'Source IPList']\n",
    "\n",
    "    hover_data = ['Count', 'Source IPList', 'Destination Application', 'Destination Environment']\n",
    "    labels = {'Source iplist': 'Source IPList', 'Destination Application': 'Destination App'}\n",
    "\n",
    "    generate_sunburst_from_dataframe(df, columns, 'iplists-to-vens', path, hover_data, labels)"
   ]
  },
  {
   "cell_type": "code",
   "execution_count": null,
   "id": "c29ac919",
   "metadata": {},
   "outputs": [],
   "source": [
    "def visualize_ports_usage(df, group, chart_name):\n",
    "    grouped = df.groupby(group).size().reset_index(name='Count')\n",
    "    stacked_chart_output(grouped, chart_name)\n",
    "    table_view(df, group[0], group[-1])"
   ]
  },
  {
   "cell_type": "code",
   "execution_count": null,
   "id": "bee3a935",
   "metadata": {},
   "outputs": [],
   "source": [
    "def table_view(df, Destination, Source):    \n",
    "    # Create a table showing Destination app and its count\n",
    "    Destination_app_counts = df[Destination].value_counts().reset_index()\n",
    "    Destination_app_counts.columns = [Destination, 'Count']\n",
    "    \n",
    "    table_fig = ff.create_table(Destination_app_counts)\n",
    "    table_fig.update_layout(\n",
    "        title=f\"{Destination} Unique Hits Counts\",\n",
    "        margin=dict(t=50, l=10, r=10, b=10)\n",
    "    )\n",
    "    \n",
    "    Source_counts = df[Source].value_counts().reset_index()\n",
    "    Source_counts.columns = [Source, 'Count']\n",
    "    \n",
    "    table_fig2 = ff.create_table(Source_counts)\n",
    "    table_fig2.update_layout(\n",
    "        title=f\"{Source} Unique Hits Counts\",\n",
    "        margin=dict(t=50, l=10, r=10, b=10)\n",
    "    )\n",
    "    \n",
    "    table_fig.show()\n",
    "    table_fig2.show()"
   ]
  },
  {
   "cell_type": "code",
   "execution_count": null,
   "id": "ca5fdb88",
   "metadata": {},
   "outputs": [],
   "source": [
    "def stacked_chart_output(grouped, chart_name):\n",
    "    global directory\n",
    "    \n",
    "    # Create a new column to group ports within specified ranges\n",
    "    def group_ports(port):\n",
    "        if 0 <= port <= 1023:\n",
    "            return '0-1023'\n",
    "        elif 1024 <= port <= 49151:\n",
    "            return '1024-49151'\n",
    "        elif 49152 <= port <= 65535:\n",
    "            return '49152-65535'\n",
    "        else:\n",
    "            return 'Other'\n",
    "\n",
    "    grouped['Port Range'] = grouped['Port'].apply(group_ports)\n",
    "\n",
    "    # Create three separate DataFrames for each port range\n",
    "    low_ports = grouped[grouped['Port Range'] == '0-1023']\n",
    "    medium_ports = grouped[grouped['Port Range'] == '1024-49151']\n",
    "    high_ports = grouped[grouped['Port Range'] == '49152-65535']\n",
    "\n",
    "    # Create three stacked bar charts using Plotly Express\n",
    "    fig_low_ports = px.bar(low_ports, x='Destination Application', y='Count', color='Port', text='Count',\n",
    "                           labels={'Destination Application': 'Destination Application', 'Count': 'Count'},\n",
    "                           title=f'{chart_name} Count of Unique Hits (0-1023) per Destination Application (Stacked)')\n",
    "\n",
    "    fig_medium_ports = px.bar(medium_ports, x='Destination Application', y='Count', color='Port', text='Count',\n",
    "                              labels={'Destination Application': 'Destination Application', 'Count': 'Count'},\n",
    "                              title=f'{chart_name} Count of Unique Hits (1024-49151) per Destination Application (Stacked)')\n",
    "\n",
    "    fig_high_ports = px.bar(high_ports, x='Destination Application', y='Count', color='Port', text='Count',\n",
    "                            labels={'Destination Application': 'Destination Application', 'Count': 'Count'},\n",
    "                            title=f'{chart_name} Count of Unique Hits (49152-65535) per Destination Application (Stacked)')\n",
    "\n",
    "    # Customize the appearance of all three charts\n",
    "    for fig in [fig_low_ports, fig_medium_ports, fig_high_ports]:\n",
    "        fig.update_traces(textposition='inside')\n",
    "\n",
    "    chart_path = os.path.join(directory, chart_name)\n",
    "        \n",
    "    # Save the three charts as image files (PNG format)\n",
    "    fig_low_ports.write_image(f\"{chart_path}-fig_low_ports.png\")\n",
    "    fig_medium_ports.write_image(f\"{chart_path}-fig_medium_ports.png\")\n",
    "    fig_high_ports.write_image(f\"{chart_path}-fig_high_ports.png\")\n",
    "\n",
    "    # Show the charts\n",
    "    fig_low_ports.show()\n",
    "    fig_medium_ports.show()\n",
    "    fig_high_ports.show()"
   ]
  },
  {
   "cell_type": "code",
   "execution_count": null,
   "id": "c2fc08ac",
   "metadata": {},
   "outputs": [],
   "source": [
    "def generate_Source_and_Destination_hostname_without_applabel(df):\n",
    "    global directory\n",
    "    \n",
    "    columns_to_replace = ['Source Application', 'Source Environment', 'Source Location', 'Destination Application', 'Destination Environment', 'Destination Location']\n",
    "    df[columns_to_replace] = df[columns_to_replace].fillna('NO LABEL')\n",
    "    \n",
    "    # Filter and group the DataFrame based on 'Source app' and 'Destination app'\n",
    "    Source_hostname_grouped = df[df['Source Application'] == 'NO LABEL'].groupby(['Source Hostname', 'Source IP', 'Source Application', 'Source Environment', 'Source Location']).size().reset_index(name='Count')\n",
    "    Destination_hostname_grouped = df[df['Destination Application'] == 'NO LABEL'].groupby(['Destination Hostname', 'Destination IP', 'Destination Application', 'Destination Environment', 'Destination Location']).size().reset_index(name='Count')\n",
    "\n",
    "    # Check if both Source_hostname_grouped and Destination_hostname_grouped are empty\n",
    "    if Source_hostname_grouped.empty and Destination_hostname_grouped.empty:\n",
    "        return \"No concern\", \"No concern\"\n",
    "    \n",
    "    # Save the grouped DataFrames to CSV files\n",
    "    Source_csv_path = os.path.join(directory, 'source_hostname_without_applabel_output.csv')\n",
    "    Destination_csv_path = os.path.join(directory, 'destination_hostname_without_applabel_output.csv')\n",
    "    \n",
    "    Source_hostname_grouped.to_csv(Source_csv_path, index=False)\n",
    "    Destination_hostname_grouped.to_csv(Destination_csv_path, index=False)\n",
    "    \n",
    "    if Source_hostname_grouped.empty:\n",
    "        return \"No concern\", Destination_hostname_grouped\n",
    "    elif Destination_hostname_grouped.empty:\n",
    "        return Source_hostname_grouped, \"No concern\"\n",
    "    \n",
    "    return Source_hostname_grouped, Destination_hostname_grouped"
   ]
  },
  {
   "cell_type": "code",
   "execution_count": null,
   "id": "239e6370",
   "metadata": {},
   "outputs": [],
   "source": [
    "def group_and_save_outputs(dataset, name):\n",
    "    grouped = dataset.groupby(['Destination Application', 'Destination Environment', 'Destination Location'])\n",
    "\n",
    "    # Iterate through each unique combination and create CSV files\n",
    "    for group_keys, group_data in grouped:\n",
    "        Destination_app, Destination_env, Destination_loc = group_keys\n",
    "\n",
    "        Destination_app = Destination_app.replace('/','_')\n",
    "        \n",
    "        directory_name = f\"{Destination_app} | {Destination_env} | {Destination_loc}\"\n",
    "        os.makedirs(directory_name, exist_ok=True)\n",
    "\n",
    "        csv_filename = f\"{name}_{Destination_app}_{Destination_env}_{Destination_loc}.csv\"\n",
    "        csv_path = os.path.join(directory_name, csv_filename)\n",
    "\n",
    "        group_data.to_csv(csv_path, index=False)"
   ]
  },
  {
   "cell_type": "code",
   "execution_count": null,
   "id": "62becf50",
   "metadata": {},
   "outputs": [],
   "source": [
    "def process_csv_file(csv_file_path, output_prefix, columns):\n",
    "    if os.path.exists(csv_file_path):\n",
    "        df = read_csv_file(csv_file_path)\n",
    "        visualize_ports_usage(df, columns, output_prefix)\n",
    "        group_and_save_outputs(df, output_prefix)\n",
    "    else:\n",
    "        print(f\"File not found: {csv_file_path}, skipping visualization.\")"
   ]
  },
  {
   "cell_type": "code",
   "execution_count": null,
   "id": "da781e60",
   "metadata": {},
   "outputs": [],
   "source": [
    "def output_workloads(df, columns, filename):\n",
    "    global directory\n",
    "    \n",
    "    # Group the DataFrame by the specified columns and count occurrences\n",
    "    grouped = df.groupby(columns).size().reset_index(name='Count')\n",
    "    grouped = grouped.sort_values(by='Count', ascending=False)\n",
    "    \n",
    "    csv_path = os.path.join(directory, filename)\n",
    "    grouped.to_csv(csv_path, index=False)\n",
    "    \n",
    "    return grouped"
   ]
  },
  {
   "cell_type": "markdown",
   "id": "d037132e",
   "metadata": {},
   "source": [
    " "
   ]
  },
  {
   "cell_type": "markdown",
   "id": "fdafa748",
   "metadata": {},
   "source": [
    "<span style='background:Red;font-weight:bold;'> ### DO NOT EDIT TILL HERE ###</span>"
   ]
  },
  {
   "cell_type": "code",
   "execution_count": null,
   "id": "40d1869d",
   "metadata": {},
   "outputs": [],
   "source": [
    "df = read_csv_file(csv_file_path)\n",
    "df, time_difference = preprocess_data(df)\n",
    "\n",
    "directory = \"consolidated_outputs\"\n",
    "os.makedirs(directory, exist_ok=True)"
   ]
  },
  {
   "cell_type": "code",
   "execution_count": null,
   "id": "8662d80d",
   "metadata": {},
   "outputs": [],
   "source": [
    "Source_hostname_without_applabel, Destination_hostname_without_applabel = generate_Source_and_Destination_hostname_without_applabel(df)"
   ]
  },
  {
   "cell_type": "code",
   "execution_count": null,
   "id": "f867a9b8",
   "metadata": {},
   "outputs": [],
   "source": [
    "if maxdepth < 2:\n",
    "    maxdepth = 2\n",
    "    \n",
    "if maxdepth > 6:\n",
    "    maxdepth = 6"
   ]
  },
  {
   "cell_type": "markdown",
   "id": "12202773",
   "metadata": {},
   "source": [
    " "
   ]
  },
  {
   "cell_type": "markdown",
   "id": "4f6076a0",
   "metadata": {},
   "source": [
    " "
   ]
  },
  {
   "cell_type": "markdown",
   "id": "1acfbeff",
   "metadata": {},
   "source": [
    " "
   ]
  },
  {
   "cell_type": "markdown",
   "id": "23a00c14",
   "metadata": {},
   "source": [
    " <span style='color:Blue;font-weight:bold;font-size: 20px'> Outputs:</span> "
   ]
  },
  {
   "cell_type": "code",
   "execution_count": null,
   "id": "2857c334",
   "metadata": {
    "scrolled": true
   },
   "outputs": [],
   "source": [
    "print(f\"Dataset timeframe: {time_difference}\")"
   ]
  },
  {
   "cell_type": "markdown",
   "id": "3263a3ed",
   "metadata": {},
   "source": [
    " "
   ]
  },
  {
   "cell_type": "markdown",
   "id": "407ea1e5",
   "metadata": {},
   "source": [
    " "
   ]
  },
  {
   "cell_type": "markdown",
   "id": "825e81dc",
   "metadata": {},
   "source": [
    "<span style='font-size: 20px'> <span style='color:Blue;font-weight:bold'> INFO:</span> Port Hit Count (refer: \"port_usage_count.csv\")</span>"
   ]
  },
  {
   "cell_type": "code",
   "execution_count": null,
   "id": "4f5eebe7",
   "metadata": {
    "scrolled": false
   },
   "outputs": [],
   "source": [
    "output_workloads(df, ['Protocol', 'Port'], \"port_usage_count.csv\")\n",
    "table_view(df, 'Protocol', 'Port')"
   ]
  },
  {
   "cell_type": "markdown",
   "id": "57a60ffe",
   "metadata": {},
   "source": [
    " "
   ]
  },
  {
   "cell_type": "markdown",
   "id": "f6263ddd",
   "metadata": {},
   "source": [
    "<span style='font-size: 20px'><span style='color:Blue;font-weight:bold;'> INFO:</span> Outgoing Port Hit Count (refer: \"outgoing_port_usage_count.csv\")</span>"
   ]
  },
  {
   "cell_type": "code",
   "execution_count": null,
   "id": "a80cb21a",
   "metadata": {
    "scrolled": false
   },
   "outputs": [],
   "source": [
    "print(output_workloads(df, ['Source Application', 'Source Environment', 'Source Location', 'Protocol', 'Port'], \"outgoing_port_usage_count.csv\"))"
   ]
  },
  {
   "cell_type": "markdown",
   "id": "5b79aedc",
   "metadata": {},
   "source": [
    " "
   ]
  },
  {
   "cell_type": "markdown",
   "id": "b5d756f1",
   "metadata": {},
   "source": [
    " "
   ]
  },
  {
   "cell_type": "markdown",
   "id": "ea5c5159",
   "metadata": {},
   "source": [
    "<span style='font-size: 20px'><span style='color:Blue;font-weight:bold;'> INFO:</span> Incoming Port Hit Count (refer: \"incoming_port_usage_count.csv\")</span>"
   ]
  },
  {
   "cell_type": "code",
   "execution_count": null,
   "id": "a851349c",
   "metadata": {},
   "outputs": [],
   "source": [
    "print(output_workloads(df, ['Destination Application', 'Destination Environment', 'Destination Location', 'Protocol', 'Port'], \"incoming_port_usage_count.csv\"))"
   ]
  },
  {
   "cell_type": "markdown",
   "id": "06a0f20e",
   "metadata": {},
   "source": [
    " "
   ]
  },
  {
   "cell_type": "markdown",
   "id": "ce040acc",
   "metadata": {},
   "source": [
    " "
   ]
  },
  {
   "cell_type": "markdown",
   "id": "98ea484f",
   "metadata": {},
   "source": [
    "<span style='font-size: 20px'><span style='color:Blue;font-weight:bold;'> INFO:</span> Source VENs/UMWLs Hit Count (refer: 'Source_hit_counts.csv')</span>"
   ]
  },
  {
   "cell_type": "code",
   "execution_count": null,
   "id": "3fb72cf6",
   "metadata": {},
   "outputs": [],
   "source": [
    "print(output_workloads(df, ['Source Hostname', 'Source Application', 'Source Environment', 'Source Location'], 'Source_hit_counts.csv'))"
   ]
  },
  {
   "cell_type": "markdown",
   "id": "995f73a6",
   "metadata": {},
   "source": [
    " "
   ]
  },
  {
   "cell_type": "markdown",
   "id": "01b1011c",
   "metadata": {},
   "source": [
    " "
   ]
  },
  {
   "cell_type": "markdown",
   "id": "110faa16",
   "metadata": {},
   "source": [
    "<span style='font-size: 20px'><span style='color:Blue;font-weight:bold;'> INFO:</span> Destination VENs/UMWLs Hit Count (refer: 'Destination_hit_counts.csv')</span>"
   ]
  },
  {
   "cell_type": "code",
   "execution_count": null,
   "id": "31d6c436",
   "metadata": {},
   "outputs": [],
   "source": [
    "print(output_workloads(df, ['Destination Hostname', 'Destination Application', 'Destination Environment', 'Destination Location'], 'Destination_hit_counts.csv'))"
   ]
  },
  {
   "cell_type": "markdown",
   "id": "97b3a99f",
   "metadata": {},
   "source": [
    " "
   ]
  },
  {
   "cell_type": "markdown",
   "id": "ac8b37bd",
   "metadata": {},
   "source": [
    " "
   ]
  },
  {
   "cell_type": "markdown",
   "id": "496161d0",
   "metadata": {},
   "source": [
    "<span style='font-size: 20px'><span style='color:Blue;font-weight:bold;'> INFO:</span> Source VENs without APP label assigned (refer: 'Source_hostname_without_applabel_output.csv')</span>"
   ]
  },
  {
   "cell_type": "code",
   "execution_count": null,
   "id": "70827301",
   "metadata": {},
   "outputs": [],
   "source": [
    "print(Source_hostname_without_applabel)"
   ]
  },
  {
   "cell_type": "markdown",
   "id": "22308d5b",
   "metadata": {},
   "source": [
    " "
   ]
  },
  {
   "cell_type": "markdown",
   "id": "461df830",
   "metadata": {},
   "source": [
    " "
   ]
  },
  {
   "cell_type": "markdown",
   "id": "669e1e71",
   "metadata": {},
   "source": [
    "<span style='font-size: 20px'><span style='color:Blue;font-weight:bold;'> INFO:</span> Destination VENs without APP label assigned (refer: 'Destination_hostname_without_applabel_output.csv')</span>"
   ]
  },
  {
   "cell_type": "code",
   "execution_count": null,
   "id": "28fec25e",
   "metadata": {
    "scrolled": false
   },
   "outputs": [],
   "source": [
    "print(Destination_hostname_without_applabel)"
   ]
  },
  {
   "cell_type": "markdown",
   "id": "d65a88e5",
   "metadata": {},
   "source": [
    " "
   ]
  },
  {
   "cell_type": "markdown",
   "id": "a4ddadfb",
   "metadata": {},
   "source": [
    " "
   ]
  },
  {
   "cell_type": "markdown",
   "id": "f69ce87c",
   "metadata": {},
   "source": [
    "<span style='font-size: 20px'><span style='color:Blue;font-weight:bold;'> INFO:</span> Sunburst Chart for VENs to VENs visualization <br>\n",
    "\n",
    "This Sunburst chart displays a hierarchical representation of data. (refer: 'vens-to-vens_sunburst_chart.html')<br>\n",
    "\n",
    "Layer 1: Destination environment<br>\n",
    "Layer 2: Destination application within Destination environment<br>\n",
    "Layer 3: Source environment outbound to the Destination Application<br>\n",
    "Layer 4: Source application within Source environment<br></span>"
   ]
  },
  {
   "cell_type": "code",
   "execution_count": null,
   "id": "93e06ff7",
   "metadata": {
    "scrolled": false
   },
   "outputs": [],
   "source": [
    "generate_vens_to_vens_sunburst_chart(df, maxdepth=maxdepth, location=location)"
   ]
  },
  {
   "cell_type": "markdown",
   "id": "05a232da",
   "metadata": {},
   "source": [
    " "
   ]
  },
  {
   "cell_type": "markdown",
   "id": "dcabe46d",
   "metadata": {},
   "source": [
    " "
   ]
  },
  {
   "cell_type": "markdown",
   "id": "7cb5d5ad",
   "metadata": {},
   "source": [
    "<span style='font-size: 20px'><span style='color:Blue;font-weight:bold;'> INFO:</span> VENs to VENs Ports Usage by Destination App Centric</span>"
   ]
  },
  {
   "cell_type": "code",
   "execution_count": null,
   "id": "434f2eca",
   "metadata": {
    "scrolled": false
   },
   "outputs": [],
   "source": [
    "process_csv_file(f\"{directory}/vens-to-vens_consolidated_output.csv\", \"VENs-to-VENs\", ['Destination Application', 'Port', 'Protocol', 'Source Application'])"
   ]
  },
  {
   "cell_type": "markdown",
   "id": "ff9746a6",
   "metadata": {},
   "source": [
    " "
   ]
  },
  {
   "cell_type": "markdown",
   "id": "7b802296",
   "metadata": {},
   "source": [
    " "
   ]
  },
  {
   "cell_type": "markdown",
   "id": "5265590f",
   "metadata": {},
   "source": [
    "<span style='font-size: 20px'><span style='color:Blue;font-weight:bold;'> INFO:</span> Sunburst Chart for IPLists to VENs visualization <br>\n",
    "\n",
    "This Sunburst chart displays a hierarchical representation of data. (refer: \n",
    "'iplists-to-vens_sunburst_chart.html')<br>\n",
    "\n",
    "Layer 1: Destination environment<br>\n",
    "Layer 2: Destination application within Destination environment<br>\n",
    "Layer 3: Source IPLists outbound to the Destination Application<br>\n",
    "Layer 4: Source IPs within Source IPLists<br></span>"
   ]
  },
  {
   "cell_type": "code",
   "execution_count": null,
   "id": "db547c92",
   "metadata": {},
   "outputs": [],
   "source": [
    "generate_iplists_to_vens_sunburst_chart(df, maxdepth=maxdepth, location=location)"
   ]
  },
  {
   "cell_type": "markdown",
   "id": "2afaa3d3",
   "metadata": {},
   "source": [
    " "
   ]
  },
  {
   "cell_type": "markdown",
   "id": "5974305c",
   "metadata": {},
   "source": [
    " "
   ]
  },
  {
   "cell_type": "markdown",
   "id": "7eb98cf7",
   "metadata": {},
   "source": [
    "<span style='font-size: 20px'><span style='color:Blue;font-weight:bold;'> INFO:</span> IPLists to VENs Ports Usage by Destination App Centric</span>"
   ]
  },
  {
   "cell_type": "code",
   "execution_count": null,
   "id": "56917d89",
   "metadata": {
    "scrolled": false
   },
   "outputs": [],
   "source": [
    "process_csv_file(f\"{directory}/iplists-to-vens_consolidated_output.csv\", \"IPLists-to-VENs\", ['Destination Application', 'Port', 'Protocol', 'Source IPList'])"
   ]
  }
 ],
 "metadata": {
  "kernelspec": {
   "display_name": "Python 3 (ipykernel)",
   "language": "python",
   "name": "python3"
  },
  "language_info": {
   "codemirror_mode": {
    "name": "ipython",
    "version": 3
   },
   "file_extension": ".py",
   "mimetype": "text/x-python",
   "name": "python",
   "nbconvert_exporter": "python",
   "pygments_lexer": "ipython3",
   "version": "3.11.4"
  }
 },
 "nbformat": 4,
 "nbformat_minor": 5
}
