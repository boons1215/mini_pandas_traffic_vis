{
 "cells": [
  {
   "cell_type": "markdown",
   "id": "04a1ba7a",
   "metadata": {},
   "source": [
    "__Created and Maintained by Boon < <boon.siew@illumio.com> >__\n",
    "\n",
    "__NOTE:__\n",
    "This script generates the following outputs:<br>\n",
    "    1. CSV with consolidated flows output - \"consolidated_output.csv\"<br>\n",
    "    2. CSV with consolidated flows output without ports and protocols - \"consolidated_output-noports.csv\"<br>\n",
    "    3. CSV with Consumer VENs without APP label assigned - \"consumer_hostname_without_applabel_output.csv\"<br>\n",
    "    4. CSV with Provider VENs without APP label assigned - \"provider_hostname_without_applabel_output.csv\"<br>\n",
    "    5. HTML with graph - \"sunburst_chart_with_legend.html\"\n",
    "    \n",
    "- pip3 install -U kaleido\n",
    "- pip3 install -U pandas\n",
    "- pip3 install -U plotly"
   ]
  },
  {
   "cell_type": "markdown",
   "id": "8ca830eb",
   "metadata": {},
   "source": [
    "**Update the following Variables:**"
   ]
  },
  {
   "cell_type": "code",
   "execution_count": null,
   "id": "b0615270",
   "metadata": {},
   "outputs": [],
   "source": [
    "csv_file_path=\"TrafficData_10_16_2023__4_03_09_PM.csv\""
   ]
  },
  {
   "cell_type": "markdown",
   "id": "dd755241",
   "metadata": {},
   "source": [
    "Should we enable the location view? (default is False)"
   ]
  },
  {
   "cell_type": "code",
   "execution_count": null,
   "id": "b1b9a241",
   "metadata": {},
   "outputs": [],
   "source": [
    "location=True"
   ]
  },
  {
   "cell_type": "markdown",
   "id": "7b894738",
   "metadata": {},
   "source": [
    "Sunburst chart depth level (default 2, upto 6)"
   ]
  },
  {
   "cell_type": "code",
   "execution_count": null,
   "id": "be13f70f",
   "metadata": {},
   "outputs": [],
   "source": [
    "maxdepth=6"
   ]
  },
  {
   "cell_type": "markdown",
   "id": "43e624a9",
   "metadata": {},
   "source": [
    " "
   ]
  },
  {
   "cell_type": "markdown",
   "id": "c9a5ed36",
   "metadata": {},
   "source": [
    "<span style='background:Red;font-weight:bold;'> ### DO NOT EDIT FROM HERE ###</span>"
   ]
  },
  {
   "cell_type": "code",
   "execution_count": null,
   "id": "6f005c37",
   "metadata": {},
   "outputs": [],
   "source": [
    "import sys\n",
    "import os\n",
    "import pandas as pd\n",
    "import plotly.express as px\n",
    "import plotly.graph_objs as go\n",
    "import plotly.figure_factory as ff\n",
    "from plotly.subplots import make_subplots"
   ]
  },
  {
   "cell_type": "code",
   "execution_count": null,
   "id": "c57bfd4a",
   "metadata": {},
   "outputs": [],
   "source": [
    "def read_csv_file(file_path):\n",
    "    try:\n",
    "        return pd.read_csv(file_path)\n",
    "    except FileNotFoundError:\n",
    "        print(f\"File not found: {file_path}\")\n",
    "        sys.exit(1)"
   ]
  },
  {
   "cell_type": "code",
   "execution_count": null,
   "id": "cc1250cc",
   "metadata": {},
   "outputs": [],
   "source": [
    "def preprocess_data(df):\n",
    "    # Condition 1: If \"Consumer Hostname\" and \"Provider Hostname\" are not empty, fill in with \"NO LABEL\" for certain columns if any one of them is empty.\n",
    "    hostname_columns = ['Consumer app', 'Consumer env', 'Consumer loc', 'Provider app', 'Provider env', 'Provider loc']\n",
    "    df.loc[~df['Consumer Hostname'].isna() & df['Consumer Hostname'].notna() &\n",
    "           ~df['Provider Hostname'].isna() & df['Provider Hostname'].notna(),\n",
    "           hostname_columns] = df[hostname_columns].fillna('NO LABEL')\n",
    "\n",
    "    # Condition 2: If \"Consumer IPList\" is not empty, fill in with \"NO LABEL\" for certain columns if any one of them is empty.\n",
    "    consumer_iplist_columns = ['Provider app', 'Provider env', 'Provider loc']\n",
    "    df.loc[~df['Consumer IPList'].isna(), consumer_iplist_columns] = df[consumer_iplist_columns].fillna('NO LABEL')\n",
    "\n",
    "    # Condition 3: If \"Provider IPList\" is not empty, fill in with \"NO LABEL\" for certain columns if any one of them is empty.\n",
    "    provider_iplist_columns = ['Consumer app', 'Consumer env', 'Consumer loc']\n",
    "    df.loc[~df['Provider IPList'].isna(), provider_iplist_columns] = df[provider_iplist_columns].fillna('NO LABEL')\n",
    "\n",
    "    df['First Detected'] = pd.to_datetime(df['First Detected'])\n",
    "    df['Last Detected'] = pd.to_datetime(df['Last Detected'])\n",
    "    \n",
    "    # Calculate the earliest and latest timestamps\n",
    "    earliest_timestamp = df['First Detected'].min()\n",
    "    latest_timestamp = df['Last Detected'].max()\n",
    "    \n",
    "    time_difference = latest_timestamp - earliest_timestamp\n",
    "\n",
    "    return df, time_difference"
   ]
  },
  {
   "cell_type": "code",
   "execution_count": null,
   "id": "0f1f3c82",
   "metadata": {},
   "outputs": [],
   "source": [
    "def sunburst_chart_output(df, path, maxdepth, chart_name, hover_name, hover_data, labels):\n",
    "    fig = make_subplots(rows=1, cols=1)\n",
    "    sunburst_chart = px.sunburst(\n",
    "        df,\n",
    "        path=path,\n",
    "        values='Count',\n",
    "        color='Count',  \n",
    "        color_continuous_scale='Viridis', \n",
    "        hover_name=hover_name,  # Display Consumer app as hover text\n",
    "        hover_data=hover_data,  \n",
    "        labels=labels,  \n",
    "        maxdepth=maxdepth,  \n",
    "    )\n",
    "\n",
    "    fig.add_trace(sunburst_chart.data[0])\n",
    "    fig.update_layout(\n",
    "        legend_title_text=\"Legend\",\n",
    "        legend_traceorder=\"normal\",  # Change trace order in the legend\n",
    "    )\n",
    "    fig.update_traces(textinfo='label+percent entry', insidetextorientation='radial') \n",
    "    fig.update_layout(margin=dict(t=0, l=0, r=0, b=0))  \n",
    "\n",
    "    chart_path = os.path.join(directory, chart_name)\n",
    "    \n",
    "    with open(chart_path, 'w') as f:\n",
    "        f.write(fig.to_html())\n",
    "\n",
    "    fig.show()"
   ]
  },
  {
   "cell_type": "code",
   "execution_count": null,
   "id": "3575c8ad",
   "metadata": {},
   "outputs": [],
   "source": [
    "def generate_sunburst_from_dataframe(df, columns, chart_name, path, hover_data, labels):\n",
    "    global directory\n",
    "\n",
    "    grouped = df.groupby(columns).size().reset_index(name='Count')\n",
    "\n",
    "    if not grouped.empty:\n",
    "        path1 = os.path.join(directory, f'{chart_name}_consolidated_output.csv')\n",
    "        grouped.to_csv(path1, index=False)\n",
    "    else:\n",
    "        print(\"No data to generate Sunburst chart.\")\n",
    "        return\n",
    "    \n",
    "    path = path\n",
    "    hover_name = path[-1]\n",
    "    hover_data = hover_data\n",
    "    labels = labels\n",
    "\n",
    "    sunburst_chart_output(grouped, path, maxdepth, f'{chart_name}_sunburst_chart.html', hover_name, hover_data, labels)"
   ]
  },
  {
   "cell_type": "code",
   "execution_count": null,
   "id": "b3275571",
   "metadata": {},
   "outputs": [],
   "source": [
    "def generate_vens_to_vens_sunburst_chart(df, maxdepth=2, location=False):\n",
    "    df_filtered = df[\n",
    "        ((~df['Consumer Name'].isna()) | (~df['Consumer Hostname'].isna())) &\n",
    "        ((~df['Provider Name'].isna()) | (~df['Provider Hostname'].isna()))\n",
    "    ]\n",
    "    \n",
    "    columns = ['Consumer app', 'Consumer env', 'Consumer loc', 'Provider app', 'Provider env', 'Provider loc', 'Port', 'Protocol']\n",
    "    \n",
    "    if location:\n",
    "        path = ['Provider loc', 'Provider env', 'Provider app', 'Consumer loc', 'Consumer env', 'Consumer app']\n",
    "    else:\n",
    "        path = ['Provider env', 'Provider app', 'Consumer env', 'Consumer app']\n",
    "\n",
    "    hover_data = ['Count', 'Consumer app', 'Consumer env', 'Provider app', 'Provider env']\n",
    "    labels = {'Consumer app': 'Consumer App', 'Provider app': 'Provider App'}\n",
    "\n",
    "    generate_sunburst_from_dataframe(df_filtered, columns, 'vens-to-vens', path, hover_data, labels)"
   ]
  },
  {
   "cell_type": "code",
   "execution_count": null,
   "id": "64b174c0",
   "metadata": {},
   "outputs": [],
   "source": [
    "def generate_iplists_to_vens_sunburst_chart(df, maxdepth=2, location=False):\n",
    "    df_filtered = df[~df['Consumer IPList'].isna() & ~df['Provider Hostname'].isna()]\n",
    "    columns = ['Consumer IPList', 'Provider app', 'Provider env', 'Provider loc', 'Port', 'Protocol']\n",
    "\n",
    "    if location:\n",
    "        path = ['Provider loc', 'Provider env', 'Provider app', 'Consumer IPList']\n",
    "    else:\n",
    "        path = ['Provider env', 'Provider app', 'Consumer IPList']\n",
    "\n",
    "    hover_data = ['Count', 'Consumer IPList', 'Provider app', 'Provider env']\n",
    "    labels = {'Consumer iplist': 'Consumer IPList', 'Provider app': 'Provider App'}\n",
    "\n",
    "    generate_sunburst_from_dataframe(df, columns, 'iplists-to-vens', path, hover_data, labels)"
   ]
  },
  {
   "cell_type": "code",
   "execution_count": null,
   "id": "c29ac919",
   "metadata": {},
   "outputs": [],
   "source": [
    "def visualize_ports_usage(df, group, chart_name):\n",
    "    grouped = df.groupby(group).size().reset_index(name='Count')\n",
    "    stacked_chart_output(grouped, chart_name)\n",
    "    table_view(df, group[0], group[-1])"
   ]
  },
  {
   "cell_type": "code",
   "execution_count": null,
   "id": "bee3a935",
   "metadata": {},
   "outputs": [],
   "source": [
    "def table_view(df, provider, consumer):    \n",
    "    # Create a table showing Provider app and its count\n",
    "    provider_app_counts = df[provider].value_counts().reset_index()\n",
    "    provider_app_counts.columns = [provider, 'Count']\n",
    "    \n",
    "    table_fig = ff.create_table(provider_app_counts)\n",
    "    table_fig.update_layout(\n",
    "        title=f\"{provider} Unique Hits Counts\",\n",
    "        margin=dict(t=50, l=10, r=10, b=10)\n",
    "    )\n",
    "    \n",
    "    consumer_counts = df[consumer].value_counts().reset_index()\n",
    "    consumer_counts.columns = [consumer, 'Count']\n",
    "    \n",
    "    table_fig2 = ff.create_table(consumer_counts)\n",
    "    table_fig2.update_layout(\n",
    "        title=f\"{consumer} Unique Hits Counts\",\n",
    "        margin=dict(t=50, l=10, r=10, b=10)\n",
    "    )\n",
    "    \n",
    "    table_fig.show()\n",
    "    table_fig2.show()"
   ]
  },
  {
   "cell_type": "code",
   "execution_count": null,
   "id": "ca5fdb88",
   "metadata": {},
   "outputs": [],
   "source": [
    "def stacked_chart_output(grouped, chart_name):\n",
    "    global directory\n",
    "    \n",
    "    # Create a new column to group ports within specified ranges\n",
    "    def group_ports(port):\n",
    "        if 0 <= port <= 1023:\n",
    "            return '0-1023'\n",
    "        elif 1024 <= port <= 49151:\n",
    "            return '1024-49151'\n",
    "        elif 49152 <= port <= 65535:\n",
    "            return '49152-65535'\n",
    "        else:\n",
    "            return 'Other'\n",
    "\n",
    "    grouped['Port Range'] = grouped['Port'].apply(group_ports)\n",
    "\n",
    "    # Create three separate DataFrames for each port range\n",
    "    low_ports = grouped[grouped['Port Range'] == '0-1023']\n",
    "    medium_ports = grouped[grouped['Port Range'] == '1024-49151']\n",
    "    high_ports = grouped[grouped['Port Range'] == '49152-65535']\n",
    "\n",
    "    # Create three stacked bar charts using Plotly Express\n",
    "    fig_low_ports = px.bar(low_ports, x='Provider app', y='Count', color='Port', text='Count',\n",
    "                           labels={'Provider app': 'Provider Application', 'Count': 'Count'},\n",
    "                           title=f'{chart_name} Count of Unique Hits (0-1023) per Provider Application (Stacked)')\n",
    "\n",
    "    fig_medium_ports = px.bar(medium_ports, x='Provider app', y='Count', color='Port', text='Count',\n",
    "                              labels={'Provider app': 'Provider Application', 'Count': 'Count'},\n",
    "                              title=f'{chart_name} Count of Unique Hits (1024-49151) per Provider Application (Stacked)')\n",
    "\n",
    "    fig_high_ports = px.bar(high_ports, x='Provider app', y='Count', color='Port', text='Count',\n",
    "                            labels={'Provider app': 'Provider Application', 'Count': 'Count'},\n",
    "                            title=f'{chart_name} Count of Unique Hits (49152-65535) per Provider Application (Stacked)')\n",
    "\n",
    "    # Customize the appearance of all three charts\n",
    "    for fig in [fig_low_ports, fig_medium_ports, fig_high_ports]:\n",
    "        fig.update_traces(textposition='inside')\n",
    "\n",
    "    chart_path = os.path.join(directory, chart_name)\n",
    "        \n",
    "    # Save the three charts as image files (PNG format)\n",
    "    fig_low_ports.write_image(f\"{chart_path}-fig_low_ports.png\")\n",
    "    fig_medium_ports.write_image(f\"{chart_path}-fig_medium_ports.png\")\n",
    "    fig_high_ports.write_image(f\"{chart_path}-fig_high_ports.png\")\n",
    "\n",
    "    # Show the charts\n",
    "    fig_low_ports.show()\n",
    "    fig_medium_ports.show()\n",
    "    fig_high_ports.show()"
   ]
  },
  {
   "cell_type": "code",
   "execution_count": null,
   "id": "c2fc08ac",
   "metadata": {},
   "outputs": [],
   "source": [
    "def generate_consumer_and_provider_hostname_without_applabel(df):\n",
    "    global directory\n",
    "    \n",
    "    columns_to_replace = ['Consumer app', 'Consumer env', 'Consumer loc', 'Provider app', 'Provider env', 'Provider loc']\n",
    "    df[columns_to_replace] = df[columns_to_replace].fillna('NO LABEL')\n",
    "    \n",
    "    # Filter and group the DataFrame based on 'Consumer app' and 'Provider app'\n",
    "    consumer_hostname_grouped = df[df['Consumer app'] == 'NO LABEL'].groupby(['Consumer Hostname', 'Consumer IP', 'Consumer app', 'Consumer env', 'Consumer loc']).size().reset_index(name='Count')\n",
    "    provider_hostname_grouped = df[df['Provider app'] == 'NO LABEL'].groupby(['Provider Hostname', 'Provider IP', 'Provider app', 'Provider env', 'Provider loc']).size().reset_index(name='Count')\n",
    "\n",
    "    # Check if both consumer_hostname_grouped and provider_hostname_grouped are empty\n",
    "    if consumer_hostname_grouped.empty and provider_hostname_grouped.empty:\n",
    "        return \"No concern\", \"No concern\"\n",
    "    \n",
    "    # Save the grouped DataFrames to CSV files\n",
    "    consumer_csv_path = os.path.join(directory, 'consumer_hostname_without_applabel_output.csv')\n",
    "    provider_csv_path = os.path.join(directory, 'provider_hostname_without_applabel_output.csv')\n",
    "    \n",
    "    consumer_hostname_grouped.to_csv(consumer_csv_path, index=False)\n",
    "    provider_hostname_grouped.to_csv(provider_csv_path, index=False)\n",
    "    \n",
    "    if consumer_hostname_grouped.empty:\n",
    "        return \"No concern\", provider_hostname_grouped\n",
    "    elif provider_hostname_grouped.empty:\n",
    "        return consumer_hostname_grouped, \"No concern\"\n",
    "    \n",
    "    return consumer_hostname_grouped, provider_hostname_grouped"
   ]
  },
  {
   "cell_type": "code",
   "execution_count": null,
   "id": "239e6370",
   "metadata": {},
   "outputs": [],
   "source": [
    "def group_and_save_outputs(dataset, name):\n",
    "    grouped = dataset.groupby(['Provider app', 'Provider env', 'Provider loc'])\n",
    "\n",
    "    # Iterate through each unique combination and create CSV files\n",
    "    for group_keys, group_data in grouped:\n",
    "        provider_app, provider_env, provider_loc = group_keys\n",
    "\n",
    "        provider_app = provider_app.replace('/','_')\n",
    "        \n",
    "        directory_name = f\"{provider_app} | {provider_env} | {provider_loc}\"\n",
    "        os.makedirs(directory_name, exist_ok=True)\n",
    "\n",
    "        csv_filename = f\"{name}_{provider_app}_{provider_env}_{provider_loc}.csv\"\n",
    "        csv_path = os.path.join(directory_name, csv_filename)\n",
    "\n",
    "        group_data.to_csv(csv_path, index=False)"
   ]
  },
  {
   "cell_type": "code",
   "execution_count": null,
   "id": "62becf50",
   "metadata": {},
   "outputs": [],
   "source": [
    "def process_csv_file(csv_file_path, output_prefix, columns):\n",
    "    if os.path.exists(csv_file_path):\n",
    "        df = read_csv_file(csv_file_path)\n",
    "        visualize_ports_usage(df, columns, output_prefix)\n",
    "        group_and_save_outputs(df, output_prefix)\n",
    "    else:\n",
    "        print(f\"File not found: {csv_file_path}, skipping visualization.\")"
   ]
  },
  {
   "cell_type": "code",
   "execution_count": null,
   "id": "da781e60",
   "metadata": {},
   "outputs": [],
   "source": [
    "def output_workloads(df, columns, filename):\n",
    "    global directory\n",
    "    \n",
    "    # Group the DataFrame by the specified columns and count occurrences\n",
    "    grouped = df.groupby(columns).size().reset_index(name='Count')\n",
    "    grouped = grouped.sort_values(by='Count', ascending=False)\n",
    "    \n",
    "    csv_path = os.path.join(directory, filename)\n",
    "    grouped.to_csv(csv_path, index=False)\n",
    "    \n",
    "    return grouped"
   ]
  },
  {
   "cell_type": "markdown",
   "id": "d037132e",
   "metadata": {},
   "source": [
    " "
   ]
  },
  {
   "cell_type": "markdown",
   "id": "fdafa748",
   "metadata": {},
   "source": [
    "<span style='background:Red;font-weight:bold;'> ### DO NOT EDIT TILL HERE ###</span>"
   ]
  },
  {
   "cell_type": "code",
   "execution_count": null,
   "id": "40d1869d",
   "metadata": {},
   "outputs": [],
   "source": [
    "df = read_csv_file(csv_file_path)\n",
    "df, time_difference = preprocess_data(df)\n",
    "\n",
    "directory = \"consolidated_outputs\"\n",
    "os.makedirs(directory, exist_ok=True)"
   ]
  },
  {
   "cell_type": "code",
   "execution_count": null,
   "id": "8662d80d",
   "metadata": {},
   "outputs": [],
   "source": [
    "consumer_hostname_without_applabel, provider_hostname_without_applabel = generate_consumer_and_provider_hostname_without_applabel(df)"
   ]
  },
  {
   "cell_type": "code",
   "execution_count": null,
   "id": "f867a9b8",
   "metadata": {},
   "outputs": [],
   "source": [
    "if maxdepth < 2:\n",
    "    maxdepth = 2\n",
    "    \n",
    "if maxdepth > 6:\n",
    "    maxdepth = 6"
   ]
  },
  {
   "cell_type": "markdown",
   "id": "12202773",
   "metadata": {},
   "source": [
    " "
   ]
  },
  {
   "cell_type": "markdown",
   "id": "4f6076a0",
   "metadata": {},
   "source": [
    " "
   ]
  },
  {
   "cell_type": "markdown",
   "id": "1acfbeff",
   "metadata": {},
   "source": [
    " "
   ]
  },
  {
   "cell_type": "markdown",
   "id": "23a00c14",
   "metadata": {},
   "source": [
    " <span style='color:Blue;font-weight:bold;font-size: 20px'> Outputs:</span> "
   ]
  },
  {
   "cell_type": "code",
   "execution_count": null,
   "id": "2857c334",
   "metadata": {
    "scrolled": true
   },
   "outputs": [],
   "source": [
    "print(f\"Dataset timeframe: {time_difference}\")"
   ]
  },
  {
   "cell_type": "markdown",
   "id": "3263a3ed",
   "metadata": {},
   "source": [
    " "
   ]
  },
  {
   "cell_type": "markdown",
   "id": "407ea1e5",
   "metadata": {},
   "source": [
    " "
   ]
  },
  {
   "cell_type": "markdown",
   "id": "825e81dc",
   "metadata": {},
   "source": [
    "<span style='font-size: 20px'> <span style='color:Blue;font-weight:bold'> INFO:</span> Port Hit Count (refer: \"port_usage_count.csv\")</span>"
   ]
  },
  {
   "cell_type": "code",
   "execution_count": null,
   "id": "4f5eebe7",
   "metadata": {
    "scrolled": false
   },
   "outputs": [],
   "source": [
    "output_workloads(df, ['Protocol', 'Port'], \"port_usage_count.csv\")\n",
    "table_view(df, 'Protocol', 'Port')"
   ]
  },
  {
   "cell_type": "markdown",
   "id": "57a60ffe",
   "metadata": {},
   "source": [
    " "
   ]
  },
  {
   "cell_type": "markdown",
   "id": "f6263ddd",
   "metadata": {},
   "source": [
    "<span style='font-size: 20px'><span style='color:Blue;font-weight:bold;'> INFO:</span> Outgoing Port Hit Count (refer: \"outgoing_port_usage_count.csv\")</span>"
   ]
  },
  {
   "cell_type": "code",
   "execution_count": null,
   "id": "a80cb21a",
   "metadata": {
    "scrolled": false
   },
   "outputs": [],
   "source": [
    "print(output_workloads(df, ['Consumer app', 'Consumer env', 'Consumer loc', 'Protocol', 'Port'], \"outgoing_port_usage_count.csv\"))"
   ]
  },
  {
   "cell_type": "markdown",
   "id": "5b79aedc",
   "metadata": {},
   "source": [
    " "
   ]
  },
  {
   "cell_type": "markdown",
   "id": "b5d756f1",
   "metadata": {},
   "source": [
    " "
   ]
  },
  {
   "cell_type": "markdown",
   "id": "ea5c5159",
   "metadata": {},
   "source": [
    "<span style='font-size: 20px'><span style='color:Blue;font-weight:bold;'> INFO:</span> Incoming Port Hit Count (refer: \"incoming_port_usage_count.csv\")</span>"
   ]
  },
  {
   "cell_type": "code",
   "execution_count": null,
   "id": "a851349c",
   "metadata": {},
   "outputs": [],
   "source": [
    "print(output_workloads(df, ['Provider app', 'Provider env', 'Provider loc', 'Protocol', 'Port'], \"incoming_port_usage_count.csv\"))"
   ]
  },
  {
   "cell_type": "markdown",
   "id": "06a0f20e",
   "metadata": {},
   "source": [
    " "
   ]
  },
  {
   "cell_type": "markdown",
   "id": "ce040acc",
   "metadata": {},
   "source": [
    " "
   ]
  },
  {
   "cell_type": "markdown",
   "id": "98ea484f",
   "metadata": {},
   "source": [
    "<span style='font-size: 20px'><span style='color:Blue;font-weight:bold;'> INFO:</span> Consumer VENs/UMWLs Hit Count (refer: 'consumer_hit_counts.csv')</span>"
   ]
  },
  {
   "cell_type": "code",
   "execution_count": null,
   "id": "3fb72cf6",
   "metadata": {},
   "outputs": [],
   "source": [
    "print(output_workloads(df, ['Consumer Hostname', 'Consumer app', 'Consumer env', 'Consumer loc'], 'consumer_hit_counts.csv'))"
   ]
  },
  {
   "cell_type": "markdown",
   "id": "995f73a6",
   "metadata": {},
   "source": [
    " "
   ]
  },
  {
   "cell_type": "markdown",
   "id": "01b1011c",
   "metadata": {},
   "source": [
    " "
   ]
  },
  {
   "cell_type": "markdown",
   "id": "110faa16",
   "metadata": {},
   "source": [
    "<span style='font-size: 20px'><span style='color:Blue;font-weight:bold;'> INFO:</span> Provider VENs/UMWLs Hit Count (refer: 'provider_hit_counts.csv')</span>"
   ]
  },
  {
   "cell_type": "code",
   "execution_count": null,
   "id": "31d6c436",
   "metadata": {},
   "outputs": [],
   "source": [
    "print(output_workloads(df, ['Provider Hostname', 'Provider app', 'Provider env', 'Provider loc'], 'provider_hit_counts.csv'))"
   ]
  },
  {
   "cell_type": "markdown",
   "id": "97b3a99f",
   "metadata": {},
   "source": [
    " "
   ]
  },
  {
   "cell_type": "markdown",
   "id": "ac8b37bd",
   "metadata": {},
   "source": [
    " "
   ]
  },
  {
   "cell_type": "markdown",
   "id": "496161d0",
   "metadata": {},
   "source": [
    "<span style='font-size: 20px'><span style='color:Blue;font-weight:bold;'> INFO:</span> Consumer VENs without APP label assigned (refer: 'consumer_hostname_without_applabel_output.csv')</span>"
   ]
  },
  {
   "cell_type": "code",
   "execution_count": null,
   "id": "70827301",
   "metadata": {},
   "outputs": [],
   "source": [
    "print(consumer_hostname_without_applabel)"
   ]
  },
  {
   "cell_type": "markdown",
   "id": "22308d5b",
   "metadata": {},
   "source": [
    " "
   ]
  },
  {
   "cell_type": "markdown",
   "id": "461df830",
   "metadata": {},
   "source": [
    " "
   ]
  },
  {
   "cell_type": "markdown",
   "id": "669e1e71",
   "metadata": {},
   "source": [
    "<span style='font-size: 20px'><span style='color:Blue;font-weight:bold;'> INFO:</span> Provider VENs without APP label assigned (refer: 'provider_hostname_without_applabel_output.csv')</span>"
   ]
  },
  {
   "cell_type": "code",
   "execution_count": null,
   "id": "28fec25e",
   "metadata": {
    "scrolled": false
   },
   "outputs": [],
   "source": [
    "print(provider_hostname_without_applabel)"
   ]
  },
  {
   "cell_type": "markdown",
   "id": "d65a88e5",
   "metadata": {},
   "source": [
    " "
   ]
  },
  {
   "cell_type": "markdown",
   "id": "a4ddadfb",
   "metadata": {},
   "source": [
    " "
   ]
  },
  {
   "cell_type": "markdown",
   "id": "f69ce87c",
   "metadata": {},
   "source": [
    "<span style='font-size: 20px'><span style='color:Blue;font-weight:bold;'> INFO:</span> Sunburst Chart for VENs to VENs visualization <br>\n",
    "\n",
    "This Sunburst chart displays a hierarchical representation of data. (refer: 'vens-to-vens_sunburst_chart.html')<br>\n",
    "\n",
    "Layer 1: Provider environment<br>\n",
    "Layer 2: Provider application within Provider environment<br>\n",
    "Layer 3: Consumer environment outbound to the Provider Application<br>\n",
    "Layer 4: Consumer application within Consumer environment<br></span>"
   ]
  },
  {
   "cell_type": "code",
   "execution_count": null,
   "id": "93e06ff7",
   "metadata": {
    "scrolled": false
   },
   "outputs": [],
   "source": [
    "generate_vens_to_vens_sunburst_chart(df, maxdepth=maxdepth, location=location)"
   ]
  },
  {
   "cell_type": "markdown",
   "id": "05a232da",
   "metadata": {},
   "source": [
    " "
   ]
  },
  {
   "cell_type": "markdown",
   "id": "dcabe46d",
   "metadata": {},
   "source": [
    " "
   ]
  },
  {
   "cell_type": "markdown",
   "id": "7cb5d5ad",
   "metadata": {},
   "source": [
    "<span style='font-size: 20px'><span style='color:Blue;font-weight:bold;'> INFO:</span> VENs to VENs Ports Usage by Provider App Centric</span>"
   ]
  },
  {
   "cell_type": "code",
   "execution_count": null,
   "id": "434f2eca",
   "metadata": {
    "scrolled": false
   },
   "outputs": [],
   "source": [
    "process_csv_file(f\"{directory}/vens-to-vens_consolidated_output.csv\", \"VENs-to-VENs\", ['Provider app', 'Port', 'Protocol', 'Consumer app'])"
   ]
  },
  {
   "cell_type": "markdown",
   "id": "ff9746a6",
   "metadata": {},
   "source": [
    " "
   ]
  },
  {
   "cell_type": "markdown",
   "id": "7b802296",
   "metadata": {},
   "source": [
    " "
   ]
  },
  {
   "cell_type": "markdown",
   "id": "5265590f",
   "metadata": {},
   "source": [
    "<span style='font-size: 20px'><span style='color:Blue;font-weight:bold;'> INFO:</span> Sunburst Chart for IPLists to VENs visualization <br>\n",
    "\n",
    "This Sunburst chart displays a hierarchical representation of data. (refer: \n",
    "'iplists-to-vens_sunburst_chart.html')<br>\n",
    "\n",
    "Layer 1: Provider environment<br>\n",
    "Layer 2: Provider application within Provider environment<br>\n",
    "Layer 3: Consumer IPLists outbound to the Provider Application<br>\n",
    "Layer 4: Consumer IPs within Consumer IPLists<br></span>"
   ]
  },
  {
   "cell_type": "code",
   "execution_count": null,
   "id": "db547c92",
   "metadata": {},
   "outputs": [],
   "source": [
    "generate_iplists_to_vens_sunburst_chart(df, maxdepth=maxdepth, location=location)"
   ]
  },
  {
   "cell_type": "markdown",
   "id": "2afaa3d3",
   "metadata": {},
   "source": [
    " "
   ]
  },
  {
   "cell_type": "markdown",
   "id": "5974305c",
   "metadata": {},
   "source": [
    " "
   ]
  },
  {
   "cell_type": "markdown",
   "id": "7eb98cf7",
   "metadata": {},
   "source": [
    "<span style='font-size: 20px'><span style='color:Blue;font-weight:bold;'> INFO:</span> IPLists to VENs Ports Usage by Provider App Centric</span>"
   ]
  },
  {
   "cell_type": "code",
   "execution_count": null,
   "id": "56917d89",
   "metadata": {
    "scrolled": false
   },
   "outputs": [],
   "source": [
    "process_csv_file(f\"{directory}/iplists-to-vens_consolidated_output.csv\", \"IPLists-to-VENs\", ['Provider app', 'Port', 'Protocol', 'Consumer IPList'])"
   ]
  }
 ],
 "metadata": {
  "kernelspec": {
   "display_name": "Python 3 (ipykernel)",
   "language": "python",
   "name": "python3"
  },
  "language_info": {
   "codemirror_mode": {
    "name": "ipython",
    "version": 3
   },
   "file_extension": ".py",
   "mimetype": "text/x-python",
   "name": "python",
   "nbconvert_exporter": "python",
   "pygments_lexer": "ipython3",
   "version": "3.11.4"
  }
 },
 "nbformat": 4,
 "nbformat_minor": 5
}
