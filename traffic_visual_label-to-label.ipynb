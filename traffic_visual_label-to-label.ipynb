{
 "cells": [
  {
   "cell_type": "markdown",
   "id": "3a9b949d",
   "metadata": {},
   "source": [
    "**Update the following Variables:**"
   ]
  },
  {
   "cell_type": "code",
   "execution_count": null,
   "id": "ac61481c",
   "metadata": {},
   "outputs": [],
   "source": [
    "csv_file_path=\"prod_to_nonprod.csv\""
   ]
  },
  {
   "cell_type": "markdown",
   "id": "7895134f",
   "metadata": {},
   "source": [
    "Do we require to include location view? (default False)"
   ]
  },
  {
   "cell_type": "code",
   "execution_count": null,
   "id": "e19cc206",
   "metadata": {},
   "outputs": [],
   "source": [
    "location=False"
   ]
  },
  {
   "cell_type": "markdown",
   "id": "0e3d44ad",
   "metadata": {},
   "source": [
    "Sunburst chart depth level (default 2, upto 6)"
   ]
  },
  {
   "cell_type": "code",
   "execution_count": null,
   "id": "583d53c3",
   "metadata": {},
   "outputs": [],
   "source": [
    "maxdepth=4"
   ]
  },
  {
   "cell_type": "markdown",
   "id": "efdc90b4",
   "metadata": {},
   "source": [
    " "
   ]
  },
  {
   "cell_type": "markdown",
   "id": "341ad5c6",
   "metadata": {},
   "source": [
    "<span style='background:Red;font-weight:bold;'> ### DO NOT EDIT FROM HERE ###</span>"
   ]
  },
  {
   "cell_type": "code",
   "execution_count": null,
   "id": "00c3c1df",
   "metadata": {},
   "outputs": [],
   "source": [
    "import pandas as pd\n",
    "import plotly.express as px\n",
    "import sys\n",
    "from plotly.subplots import make_subplots\n",
    "import plotly.graph_objs as go"
   ]
  },
  {
   "cell_type": "code",
   "execution_count": null,
   "id": "d22f7d7d",
   "metadata": {},
   "outputs": [],
   "source": [
    "def read_csv_file(file_path):\n",
    "    try:\n",
    "        return pd.read_csv(file_path)\n",
    "    except FileNotFoundError:\n",
    "        print(f\"File not found: {file_path}\")\n",
    "        sys.exit(1)"
   ]
  },
  {
   "cell_type": "code",
   "execution_count": null,
   "id": "6d1fd580",
   "metadata": {},
   "outputs": [],
   "source": [
    "def preprocess_data(df):\n",
    "    # Replace empty values with \"NO LABEL\" in all columns\n",
    "    df = df.fillna('NO LABEL').replace('', 'NO LABEL')\n",
    "    return df"
   ]
  },
  {
   "cell_type": "code",
   "execution_count": null,
   "id": "f71b2d1a",
   "metadata": {},
   "outputs": [],
   "source": [
    "def generate_sunburst_chart(df, maxdepth=2, location=False):\n",
    "    # Group a DataFrame by the \"Port\" and \"Protocol\" columns and count the occurrences in total flows\n",
    "    grouped = df.groupby(['Consumer app', 'Consumer env', 'Consumer loc', 'Provider app', 'Provider env', 'Provider loc', 'Port', 'Protocol']).size().reset_index(name='Count')\n",
    "    grouped.to_csv('consolidated_output.csv', index=False)\n",
    "\n",
    "    # To count the total appearance of each port using the \"grouped\" DataFrame\n",
    "    merge_grouped = grouped.groupby(['Consumer app', 'Consumer env', 'Consumer loc', 'Provider app', 'Provider env', 'Provider loc']).size().reset_index(name='Count')\n",
    "\n",
    "    if location:\n",
    "        path=['Provider loc', 'Provider env', 'Provider app', 'Consumer loc', 'Consumer env', 'Consumer app']\n",
    "    else:\n",
    "        path=['Provider env', 'Provider app', 'Consumer env', 'Consumer app']\n",
    "    \n",
    "    # Create a subplot with a Sunburst chart\n",
    "    fig = make_subplots(rows=1, cols=1)\n",
    "    sunburst_chart = px.sunburst(\n",
    "        merge_grouped,\n",
    "        path=path,\n",
    "        values='Count',\n",
    "        color='Count',  \n",
    "        color_continuous_scale='Viridis', \n",
    "        hover_name='Consumer app',  # Display Consumer app as hover text\n",
    "        hover_data=['Count', 'Consumer app', 'Consumer env', 'Provider app', 'Provider env'],  \n",
    "        labels={'Consumer app': 'Consumer App', 'Provider app': 'Provider App'},  \n",
    "        maxdepth=maxdepth,  \n",
    "    )\n",
    "\n",
    "    fig.add_trace(sunburst_chart.data[0])\n",
    "    fig.update_layout(\n",
    "        legend_title_text=\"Legend\",\n",
    "        legend_traceorder=\"normal\",  # Change trace order in the legend\n",
    "    )\n",
    "    fig.update_traces(textinfo='label+percent entry', insidetextorientation='radial') \n",
    "    fig.update_layout(margin=dict(t=0, l=0, r=0, b=0))  \n",
    "\n",
    "    html_title = f'<div style=\"font-family: Rubik, sans-serif; font-size: 16px;\">' \\\n",
    "                 f'<h2 style=\"text-align: left;\">Sunburst Chart</h2>' \\\n",
    "                 f'<p style=\"text-align: left;\">This Sunburst chart displays a hierarchical representation of data.</p>' \\\n",
    "                 f'<p style=\"text-align: left; font-size: 12px;\">' \\\n",
    "                 f'Layer 1: Provider environment<br>' \\\n",
    "                 f'Layer 2: Provider application within Provider environment<br>' \\\n",
    "                 f'Layer 3: Consumer environment outbound to the Provider Application<br>' \\\n",
    "                 f'Layer 4: Consumer application within Consumer environment' \\\n",
    "                 f'</p>' \\\n",
    "                 f'</div>'\n",
    "    \n",
    "    chart_with_title_and_legend = f'<div>{html_title}{fig.to_html()}</div>'\n",
    "\n",
    "    with open('sunburst_chart_with_legend.html', 'w') as f:\n",
    "        f.write(chart_with_title_and_legend)\n",
    "\n",
    "    fig.show()"
   ]
  },
  {
   "cell_type": "code",
   "execution_count": null,
   "id": "aea14676",
   "metadata": {},
   "outputs": [],
   "source": [
    "def generate_consumer_and_provider_hostname_csv(df):\n",
    "    # Create DataFrames for Consumer and Provider Hostnames when 'Consumer app' or 'Provider app' is empty\n",
    "    consumer_hostname_df = df[df['Consumer app'] == 'NO LABEL']\n",
    "    provider_hostname_df = df[df['Provider app'] == 'NO LABEL']\n",
    "\n",
    "    # Group and save DataFrames to CSV\n",
    "    consumer_hostname_grouped = consumer_hostname_df.groupby(['Consumer Hostname', 'Consumer IP', 'Consumer app', 'Consumer env', 'Consumer loc']).size().reset_index(name='Count')\n",
    "    provider_hostname_grouped = provider_hostname_df.groupby(['Provider Hostname', 'Provider IP', 'Provider app', 'Provider env', 'Provider loc']).size().reset_index(name='Count')\n",
    "\n",
    "    consumer_hostname_grouped.to_csv('consumer_hostname_without_applabel_output.csv', index=False)\n",
    "    provider_hostname_grouped.to_csv('provider_hostname_without_applabel_output.csv', index=False)\n",
    "    \n",
    "    return consumer_hostname_grouped, provider_hostname_grouped"
   ]
  },
  {
   "cell_type": "code",
   "execution_count": null,
   "id": "80baf776",
   "metadata": {},
   "outputs": [],
   "source": [
    "df = read_csv_file(csv_file_path)\n",
    "df = preprocess_data(df)"
   ]
  },
  {
   "cell_type": "code",
   "execution_count": null,
   "id": "cbc75ece",
   "metadata": {},
   "outputs": [],
   "source": [
    "consumer_hostname_grouped, provider_hostname_grouped = generate_consumer_and_provider_hostname_csv(df)"
   ]
  },
  {
   "cell_type": "code",
   "execution_count": null,
   "id": "91508c55",
   "metadata": {},
   "outputs": [],
   "source": [
    "if maxdepth < 2:\n",
    "    maxdepth = 2\n",
    "    \n",
    "if maxdepth > 4:\n",
    "    maxdepth = 4"
   ]
  },
  {
   "cell_type": "markdown",
   "id": "e565e750",
   "metadata": {},
   "source": [
    "<span style='background:Red;font-weight:bold;'> ### DO NOT EDIT TILL HERE ###</span>"
   ]
  },
  {
   "cell_type": "markdown",
   "id": "8a8791f9",
   "metadata": {},
   "source": [
    " "
   ]
  },
  {
   "cell_type": "markdown",
   "id": "2dd97425",
   "metadata": {},
   "source": [
    "__INFO:__ Consumer VENs without APP label assigned"
   ]
  },
  {
   "cell_type": "code",
   "execution_count": null,
   "id": "82f90db4",
   "metadata": {},
   "outputs": [],
   "source": [
    "print(consumer_hostname_grouped)"
   ]
  },
  {
   "cell_type": "markdown",
   "id": "2d2f8370",
   "metadata": {},
   "source": [
    " "
   ]
  },
  {
   "cell_type": "markdown",
   "id": "066e96d7",
   "metadata": {},
   "source": [
    "__INFO__: Provider VENs without APP label assigned"
   ]
  },
  {
   "cell_type": "code",
   "execution_count": null,
   "id": "d7373aab",
   "metadata": {
    "scrolled": true
   },
   "outputs": [],
   "source": [
    "print(provider_hostname_grouped)"
   ]
  },
  {
   "cell_type": "markdown",
   "id": "459637c1",
   "metadata": {},
   "source": [
    " "
   ]
  },
  {
   "cell_type": "markdown",
   "id": "f11e09a0",
   "metadata": {},
   "source": [
    "__NOTE:__\n",
    "This script generates the following outputs:<br>\n",
    "    1. CSV with consolidated flows output - \"consolidated_output.csv\"<br>\n",
    "    2. CSV with Consumer VENs without APP label assigned - \"consumer_hostname_without_applabel_output.csv\"<br>\n",
    "    3. CSV with Provider VENs without APP label assigned - \"provider_hostname_without_applabel_output.csv\"<br>\n",
    "    4. HTML with graph - \"sunburst_chart_with_legend.html\""
   ]
  },
  {
   "cell_type": "code",
   "execution_count": null,
   "id": "5d9bd751",
   "metadata": {},
   "outputs": [],
   "source": [
    "generate_sunburst_chart(df, maxdepth=maxdepth, location=location)"
   ]
  },
  {
   "cell_type": "markdown",
   "id": "e326cce4",
   "metadata": {},
   "source": [
    "This Sunburst chart displays a hierarchical representation of data.<br>\n",
    "\n",
    "Layer 1: Provider environment<br>\n",
    "Layer 2: Provider application within Provider environment<br>\n",
    "Layer 3: Consumer environment outbound to the Provider Application<br>\n",
    "Layer 4: Consumer application within Consumer environment<br>"
   ]
  }
 ],
 "metadata": {
  "kernelspec": {
   "display_name": "Python 3 (ipykernel)",
   "language": "python",
   "name": "python3"
  },
  "language_info": {
   "codemirror_mode": {
    "name": "ipython",
    "version": 3
   },
   "file_extension": ".py",
   "mimetype": "text/x-python",
   "name": "python",
   "nbconvert_exporter": "python",
   "pygments_lexer": "ipython3",
   "version": "3.11.4"
  }
 },
 "nbformat": 4,
 "nbformat_minor": 5
}
